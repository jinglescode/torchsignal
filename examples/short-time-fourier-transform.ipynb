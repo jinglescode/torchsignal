{
 "cells": [
  {
   "cell_type": "code",
   "execution_count": 1,
   "metadata": {
    "tags": []
   },
   "outputs": [
    {
     "output_type": "stream",
     "name": "stdout",
     "text": "/Users/jingles/github/torchsignal\n"
    }
   ],
   "source": [
    "%cd ../"
   ]
  },
  {
   "cell_type": "code",
   "execution_count": 3,
   "metadata": {
    "tags": []
   },
   "outputs": [
    {
     "output_type": "stream",
     "name": "stdout",
     "text": "(100, 62, 4000)\n<class 'numpy.ndarray'>\n"
    }
   ],
   "source": [
    "from torchsignal.datasets import OPENBMI\n",
    "\n",
    "s1 = OPENBMI(root=\"_data/openbmi\", subject_id=1, session=1)\n",
    "\n",
    "print(s1.data.shape)\n",
    "print(type(s1.data))"
   ]
  },
  {
   "cell_type": "code",
   "execution_count": 26,
   "metadata": {
    "tags": []
   },
   "outputs": [
    {
     "output_type": "stream",
     "name": "stdout",
     "text": "(62, 4000)\n(62, 129, 17)\n"
    },
    {
     "output_type": "display_data",
     "data": {
      "text/plain": "<Figure size 432x288 with 1 Axes>",
      "image/svg+xml": "<?xml version=\"1.0\" encoding=\"utf-8\" standalone=\"no\"?>\n<!DOCTYPE svg PUBLIC \"-//W3C//DTD SVG 1.1//EN\"\n  \"http://www.w3.org/Graphics/SVG/1.1/DTD/svg11.dtd\">\n<!-- Created with matplotlib (https://matplotlib.org/) -->\n<svg height=\"248.518125pt\" version=\"1.1\" viewBox=\"0 0 176.297308 248.518125\" width=\"176.297308pt\" xmlns=\"http://www.w3.org/2000/svg\" xmlns:xlink=\"http://www.w3.org/1999/xlink\">\n <defs>\n  <style type=\"text/css\">\n*{stroke-linecap:butt;stroke-linejoin:round;}\n  </style>\n </defs>\n <g id=\"figure_1\">\n  <g id=\"patch_1\">\n   <path d=\"M 0 248.518125 \nL 176.297308 248.518125 \nL 176.297308 0 \nL 0 0 \nz\n\" style=\"fill:none;\"/>\n  </g>\n  <g id=\"axes_1\">\n   <g id=\"patch_2\">\n    <path d=\"M 26.925 224.64 \nL 169.097308 224.64 \nL 169.097308 7.2 \nL 26.925 7.2 \nz\n\" style=\"fill:#ffffff;\"/>\n   </g>\n   <g clip-path=\"url(#p60f7e1cd9a)\">\n    <image height=\"218\" id=\"imaged401cff204\" transform=\"scale(1 -1)translate(0 -218)\" width=\"143\" x=\"26.925\" xlink:href=\"data:image/png;base64,\niVBORw0KGgoAAAANSUhEUgAAAI8AAADaCAYAAACfIBHXAAAABHNCSVQICAgIfAhkiAAACP1JREFUeJzt3buPHlcZx/HnzMzuene9a+8tu7YRmFycAEnEpaGhC0KioQkpQkOEhGig46+gScHfgEQXaKgokCJEFUoSW7EMztrxZb229+59Z4bCbfL8jn7v0qDvpz3jc2bf/DLFo3OeU344++4YifH0WTYcERGl69LxcTLRc8zN5Q8M6WtWvWeUko+P+RoR+m+NtpVzjCcnYhHxnqWRa8TQ62eEdnk5Ha94C+CLER7YCA9shAc2wgMb4YGN8MDWxTikDzTnzulZmjyDZXZWTjEcHeUPVNRgJDGHrOFERc2qn76+UrqZ/B0q1mjX19Lx4cmenKPfy5/hywMb4YGN8MBGeGAjPLARHtgID2yEB7ZuFJusSsXmJlUYG/u8EPn8IfEeYrOY3GAVEdHkf4v6LWreQ21ai9Ab18bJqXgJ/f+8KgKexSY/vjywER7YCA9shAc2wgMb4YGN8MDWqcNhw9Hx1IuUGb3JStZgnlUc6lPvIWpWsr5SoaZ+ojbYDcfiNx/1ZrBRbPKTBwsjZD2JLw9shAc2wgMb4YGN8MBGeGAjPLARHtg6ubmp4nSiOkU5nlScohRFwmZ+Ph0fDg/lEqqAV2b0ydaqTWdqDnX6taaAJzTnz6fjw/6+nKO0FAnxP0J4YCM8sBEe2AgPbIQHNsIDW6fqFs3i4tSLNGur8plx/yB/4Aw6bklNRX1F1KNqqI1tsjNYxYazQXT1OosuaHx5YCM8sBEe2AgPbIQHNsIDG+GBrZMNfFZX5CSqRtM/2JFzFFFjqbktcFpVe3XEXhtVo4moOLOnDuxVaBYWxDvoulkj9nrx5YGN8MBGeGAjPLARHtgID2yEBzbCA1unim/93c/1LBUdyZV2azMdn2zfyV+holN9cz7f2NY/eSrnUEXAdl1vfJuI37Scywt8zdKSXEMWVSs6rfVP89+DLw9shAc2wgMb4YGN8MBGeGAjPLB13YtX8ycGvTGpv3svX+TyZTnHKGosrapt1BzYU5ubxAaqiIhyTjTDqtC++nI6Ptz8T/4O83kH+YiIspA3wyoVDaTKUt4gii8PbIQHNsIDG+GBjfDARnhgIzywdXd+nNdgVq5X3LB37YV0uD3SB8wOt/L3ePCdPOcz+7pusfpx/h6PXtV7gi5/eJSODzP6/8ed1/Na0cVP84OW3YH+PZ9dyA9znizrv3X3W/k4Xx7YCA9shAc2wgMb4YGN8MBGeGAjPLB1T67lBaeDK7rTVVHnyzZ1Ae8X3/9bOv7mfL5Baqt7Itd476Ofp+NHe3qT1d4P8s7qu//ckHP84d330/F3/vSbdPzFN/RBzNvXL6XjX3vprpzjdy9/kI7z5YGN8MBGeGAjPLARHtgID2yEB7byo1d+O2YPjJ/peoA6CDccHcs52it5XWJy63b+71cuyDXK7Gw6PlQ0d9KLVBymE+8Roit/v/NIrzGTz1HT7b5dX0vH+fLARnhgIzywER7YCA9shAc2wgMb4YGtvFXeTouE0eiThar7+nhacep0WhXFuRjzP7Vd0Vdi9ru76XizmHeZj4gYDg/lM5maqyhVt/uaazeHvXzjG18e2AgPbIQHNsIDG+GBjfDARnhg68qM2JhU0VlddU4fT/KNSREh6zTDwUH+DvN5x/OIiFHcbqdqODXGZ6cVD+X1JvnPK+pm/W7+jPzvHhFFdcyXMwBfgvDARnhgIzywER7YCA9shAe2rrR5forYFxIRMeztp+NNxc10vThwp2pJw1Hemf35e+hakJxjbTUdVzcWRkSMqhQk9lC1y/kNfBER/eO82dXY6y7yTZvvG+LLAxvhgY3wwEZ4YCM8sBEe2AgPbIQHtq6Iwln/cEfPIopaZUMXtUIUtdRmsXZpSa8hipWjeoeIGB49TsebV67KOcqNW/l7TPIqYv80L8pG6AOM/eP874iIGI7zjm58eWAjPLARHtgID2yEBzbCAxvhga0rC3mdp1Q0IlLdxMeDimZG0x76q2iqpDaljffuyzlUTWu8md9IGKG7szcX8272/cOHcg3VQKq7clnOMbmT3yjIlwc2wgMb4YGN8MBGeGAjPLARHtgID2zdoDZADbqLleoyVXMloeqW1W1tpuP9ju7q1W+LoldFoVF1/hoqOoOpYqUqAnZXvyrXiOMzKNwKfHlgIzywER7YCA9shAc2wgMb4YGtC9EhqsxW3Cq3uZGO99t39Rzi0N4g6hJVtwmq2wArut23Wy+k45PPtuUcamNbuyF+T7FJKyKiXbmYv8N+/g41+PLARnhgIzywER7YCA9shAc2wgNbp/afNIu6zqPqOE1FF/k4naTDg9gTVLqa2wRFt/tZfftd/7k4GDjlLX4REaOoA43it4qIGA9FR/yKmlaJ/IAjXx7YCA9shAc2wgMb4YGN8MBGeGAjPLB1qkvVsLc39SJDxTOlFV3kRRFwqCictRtig9TOIzmHpDacRUS7vp6/x644wDjoKx57sdmr3ViTc6gDoXx5YCM8sBEe2AgPbIQHNsIDG+GBrVP1k5oNUs3iQjo+ua87lqsGUKqBVFXt40HFrYWCqkc18/r3GkXtbJzkNSv5W0TFIciKpl3qvwlfHtgID2yEBzbCAxvhgY3wwEZ4YOuqGmwLvWgYrfYMRUSMJ3mdZhRNqJpvf1OuETf+na8h6isR+ha+GupAXnthOR3vK24kbBby2ttYcYOj+k358sBGeGAjPLARHtgID2yEBzbCAxvhga0rr1/Ln/j45tSLNBv5IbeIiIM3L6Xjc3/5KB0vt3Tn9f6Nl9Lx9pPbco5xczV/4PotOUfMiG5roltb95UrconxVNw4WHEjYZyKwqyeAfhihAc2wgMb4YGN8MBGeGAjPLB1N3+ab2765L1/yEm+/udfpuOv/f6pnOP01/mBvGHme+n44l//JdcoYsPZw5+8JudY/zC/ZW/7V9+Vc2y9//f8gSY/WHj/Z9+Qa1z64410/N47+m/d/ODTdJwvD2yEBzbCAxvhgY3wwEZ4YCM8sBEe2Mpb5e3p7zU8C6JzejM3l46r6y6fP6S7h/3fUJ3oz+A6S748sBEe2AgPbIQHNsIDG+GBjfDA9l976z5SoXWiiQAAAABJRU5ErkJggg==\" y=\"-6.64\"/>\n   </g>\n   <g id=\"matplotlib.axis_1\">\n    <g id=\"xtick_1\">\n     <g id=\"line2d_1\">\n      <defs>\n       <path d=\"M 0 0 \nL 0 3.5 \n\" id=\"m9c68d93d33\" style=\"stroke:#000000;stroke-width:0.8;\"/>\n      </defs>\n      <g>\n       <use style=\"stroke:#000000;stroke-width:0.8;\" x=\"31.106538\" xlink:href=\"#m9c68d93d33\" y=\"224.64\"/>\n      </g>\n     </g>\n     <g id=\"text_1\">\n      <!-- 0 -->\n      <defs>\n       <path d=\"M 31.78125 66.40625 \nQ 24.171875 66.40625 20.328125 58.90625 \nQ 16.5 51.421875 16.5 36.375 \nQ 16.5 21.390625 20.328125 13.890625 \nQ 24.171875 6.390625 31.78125 6.390625 \nQ 39.453125 6.390625 43.28125 13.890625 \nQ 47.125 21.390625 47.125 36.375 \nQ 47.125 51.421875 43.28125 58.90625 \nQ 39.453125 66.40625 31.78125 66.40625 \nz\nM 31.78125 74.21875 \nQ 44.046875 74.21875 50.515625 64.515625 \nQ 56.984375 54.828125 56.984375 36.375 \nQ 56.984375 17.96875 50.515625 8.265625 \nQ 44.046875 -1.421875 31.78125 -1.421875 \nQ 19.53125 -1.421875 13.0625 8.265625 \nQ 6.59375 17.96875 6.59375 36.375 \nQ 6.59375 54.828125 13.0625 64.515625 \nQ 19.53125 74.21875 31.78125 74.21875 \nz\n\" id=\"DejaVuSans-48\"/>\n      </defs>\n      <g transform=\"translate(27.925288 239.238437)scale(0.1 -0.1)\">\n       <use xlink:href=\"#DejaVuSans-48\"/>\n      </g>\n     </g>\n    </g>\n    <g id=\"xtick_2\">\n     <g id=\"line2d_2\">\n      <g>\n       <use style=\"stroke:#000000;stroke-width:0.8;\" x=\"72.921923\" xlink:href=\"#m9c68d93d33\" y=\"224.64\"/>\n      </g>\n     </g>\n     <g id=\"text_2\">\n      <!-- 5 -->\n      <defs>\n       <path d=\"M 10.796875 72.90625 \nL 49.515625 72.90625 \nL 49.515625 64.59375 \nL 19.828125 64.59375 \nL 19.828125 46.734375 \nQ 21.96875 47.46875 24.109375 47.828125 \nQ 26.265625 48.1875 28.421875 48.1875 \nQ 40.625 48.1875 47.75 41.5 \nQ 54.890625 34.8125 54.890625 23.390625 \nQ 54.890625 11.625 47.5625 5.09375 \nQ 40.234375 -1.421875 26.90625 -1.421875 \nQ 22.3125 -1.421875 17.546875 -0.640625 \nQ 12.796875 0.140625 7.71875 1.703125 \nL 7.71875 11.625 \nQ 12.109375 9.234375 16.796875 8.0625 \nQ 21.484375 6.890625 26.703125 6.890625 \nQ 35.15625 6.890625 40.078125 11.328125 \nQ 45.015625 15.765625 45.015625 23.390625 \nQ 45.015625 31 40.078125 35.4375 \nQ 35.15625 39.890625 26.703125 39.890625 \nQ 22.75 39.890625 18.8125 39.015625 \nQ 14.890625 38.140625 10.796875 36.28125 \nz\n\" id=\"DejaVuSans-53\"/>\n      </defs>\n      <g transform=\"translate(69.740673 239.238437)scale(0.1 -0.1)\">\n       <use xlink:href=\"#DejaVuSans-53\"/>\n      </g>\n     </g>\n    </g>\n    <g id=\"xtick_3\">\n     <g id=\"line2d_3\">\n      <g>\n       <use style=\"stroke:#000000;stroke-width:0.8;\" x=\"114.737308\" xlink:href=\"#m9c68d93d33\" y=\"224.64\"/>\n      </g>\n     </g>\n     <g id=\"text_3\">\n      <!-- 10 -->\n      <defs>\n       <path d=\"M 12.40625 8.296875 \nL 28.515625 8.296875 \nL 28.515625 63.921875 \nL 10.984375 60.40625 \nL 10.984375 69.390625 \nL 28.421875 72.90625 \nL 38.28125 72.90625 \nL 38.28125 8.296875 \nL 54.390625 8.296875 \nL 54.390625 0 \nL 12.40625 0 \nz\n\" id=\"DejaVuSans-49\"/>\n      </defs>\n      <g transform=\"translate(108.374808 239.238437)scale(0.1 -0.1)\">\n       <use xlink:href=\"#DejaVuSans-49\"/>\n       <use x=\"63.623047\" xlink:href=\"#DejaVuSans-48\"/>\n      </g>\n     </g>\n    </g>\n    <g id=\"xtick_4\">\n     <g id=\"line2d_4\">\n      <g>\n       <use style=\"stroke:#000000;stroke-width:0.8;\" x=\"156.552692\" xlink:href=\"#m9c68d93d33\" y=\"224.64\"/>\n      </g>\n     </g>\n     <g id=\"text_4\">\n      <!-- 15 -->\n      <g transform=\"translate(150.190192 239.238437)scale(0.1 -0.1)\">\n       <use xlink:href=\"#DejaVuSans-49\"/>\n       <use x=\"63.623047\" xlink:href=\"#DejaVuSans-53\"/>\n      </g>\n     </g>\n    </g>\n   </g>\n   <g id=\"matplotlib.axis_2\">\n    <g id=\"ytick_1\">\n     <g id=\"line2d_5\">\n      <defs>\n       <path d=\"M 0 0 \nL -3.5 0 \n\" id=\"m971393c464\" style=\"stroke:#000000;stroke-width:0.8;\"/>\n      </defs>\n      <g>\n       <use style=\"stroke:#000000;stroke-width:0.8;\" x=\"26.925\" xlink:href=\"#m971393c464\" y=\"11.381538\"/>\n      </g>\n     </g>\n     <g id=\"text_5\">\n      <!-- 0 -->\n      <g transform=\"translate(13.5625 15.180757)scale(0.1 -0.1)\">\n       <use xlink:href=\"#DejaVuSans-48\"/>\n      </g>\n     </g>\n    </g>\n    <g id=\"ytick_2\">\n     <g id=\"line2d_6\">\n      <g>\n       <use style=\"stroke:#000000;stroke-width:0.8;\" x=\"26.925\" xlink:href=\"#m971393c464\" y=\"53.196923\"/>\n      </g>\n     </g>\n     <g id=\"text_6\">\n      <!-- 5 -->\n      <g transform=\"translate(13.5625 56.996142)scale(0.1 -0.1)\">\n       <use xlink:href=\"#DejaVuSans-53\"/>\n      </g>\n     </g>\n    </g>\n    <g id=\"ytick_3\">\n     <g id=\"line2d_7\">\n      <g>\n       <use style=\"stroke:#000000;stroke-width:0.8;\" x=\"26.925\" xlink:href=\"#m971393c464\" y=\"95.012308\"/>\n      </g>\n     </g>\n     <g id=\"text_7\">\n      <!-- 10 -->\n      <g transform=\"translate(7.2 98.811526)scale(0.1 -0.1)\">\n       <use xlink:href=\"#DejaVuSans-49\"/>\n       <use x=\"63.623047\" xlink:href=\"#DejaVuSans-48\"/>\n      </g>\n     </g>\n    </g>\n    <g id=\"ytick_4\">\n     <g id=\"line2d_8\">\n      <g>\n       <use style=\"stroke:#000000;stroke-width:0.8;\" x=\"26.925\" xlink:href=\"#m971393c464\" y=\"136.827692\"/>\n      </g>\n     </g>\n     <g id=\"text_8\">\n      <!-- 15 -->\n      <g transform=\"translate(7.2 140.626911)scale(0.1 -0.1)\">\n       <use xlink:href=\"#DejaVuSans-49\"/>\n       <use x=\"63.623047\" xlink:href=\"#DejaVuSans-53\"/>\n      </g>\n     </g>\n    </g>\n    <g id=\"ytick_5\">\n     <g id=\"line2d_9\">\n      <g>\n       <use style=\"stroke:#000000;stroke-width:0.8;\" x=\"26.925\" xlink:href=\"#m971393c464\" y=\"178.643077\"/>\n      </g>\n     </g>\n     <g id=\"text_9\">\n      <!-- 20 -->\n      <defs>\n       <path d=\"M 19.1875 8.296875 \nL 53.609375 8.296875 \nL 53.609375 0 \nL 7.328125 0 \nL 7.328125 8.296875 \nQ 12.9375 14.109375 22.625 23.890625 \nQ 32.328125 33.6875 34.8125 36.53125 \nQ 39.546875 41.84375 41.421875 45.53125 \nQ 43.3125 49.21875 43.3125 52.78125 \nQ 43.3125 58.59375 39.234375 62.25 \nQ 35.15625 65.921875 28.609375 65.921875 \nQ 23.96875 65.921875 18.8125 64.3125 \nQ 13.671875 62.703125 7.8125 59.421875 \nL 7.8125 69.390625 \nQ 13.765625 71.78125 18.9375 73 \nQ 24.125 74.21875 28.421875 74.21875 \nQ 39.75 74.21875 46.484375 68.546875 \nQ 53.21875 62.890625 53.21875 53.421875 \nQ 53.21875 48.921875 51.53125 44.890625 \nQ 49.859375 40.875 45.40625 35.40625 \nQ 44.1875 33.984375 37.640625 27.21875 \nQ 31.109375 20.453125 19.1875 8.296875 \nz\n\" id=\"DejaVuSans-50\"/>\n      </defs>\n      <g transform=\"translate(7.2 182.442296)scale(0.1 -0.1)\">\n       <use xlink:href=\"#DejaVuSans-50\"/>\n       <use x=\"63.623047\" xlink:href=\"#DejaVuSans-48\"/>\n      </g>\n     </g>\n    </g>\n    <g id=\"ytick_6\">\n     <g id=\"line2d_10\">\n      <g>\n       <use style=\"stroke:#000000;stroke-width:0.8;\" x=\"26.925\" xlink:href=\"#m971393c464\" y=\"220.458462\"/>\n      </g>\n     </g>\n     <g id=\"text_10\">\n      <!-- 25 -->\n      <g transform=\"translate(7.2 224.25768)scale(0.1 -0.1)\">\n       <use xlink:href=\"#DejaVuSans-50\"/>\n       <use x=\"63.623047\" xlink:href=\"#DejaVuSans-53\"/>\n      </g>\n     </g>\n    </g>\n   </g>\n   <g id=\"patch_3\">\n    <path d=\"M 26.925 224.64 \nL 26.925 7.2 \n\" style=\"fill:none;stroke:#000000;stroke-linecap:square;stroke-linejoin:miter;stroke-width:0.8;\"/>\n   </g>\n   <g id=\"patch_4\">\n    <path d=\"M 169.097308 224.64 \nL 169.097308 7.2 \n\" style=\"fill:none;stroke:#000000;stroke-linecap:square;stroke-linejoin:miter;stroke-width:0.8;\"/>\n   </g>\n   <g id=\"patch_5\">\n    <path d=\"M 26.925 224.64 \nL 169.097308 224.64 \n\" style=\"fill:none;stroke:#000000;stroke-linecap:square;stroke-linejoin:miter;stroke-width:0.8;\"/>\n   </g>\n   <g id=\"patch_6\">\n    <path d=\"M 26.925 7.2 \nL 169.097308 7.2 \n\" style=\"fill:none;stroke:#000000;stroke-linecap:square;stroke-linejoin:miter;stroke-width:0.8;\"/>\n   </g>\n  </g>\n </g>\n <defs>\n  <clipPath id=\"p60f7e1cd9a\">\n   <rect height=\"217.44\" width=\"142.172308\" x=\"26.925\" y=\"7.2\"/>\n  </clipPath>\n </defs>\n</svg>\n",
      "image/png": "[encoded data removed]"
     },
     "metadata": {
      "needs_background": "light"
     }
    }
   ],
   "source": [
    "import matplotlib.pyplot as plt\n",
    "from scipy import signal\n",
    "import numpy as np\n",
    "\n",
    "s1_sample = s1.data[0]\n",
    "print(s1_sample.shape)\n",
    "f, t, Sxx = signal.spectrogram(s1_sample, fs=1000)\n",
    "print(Sxx.shape)\n",
    "\n",
    "plt.imshow(Sxx[0, 0:26])\n",
    "plt.show()"
   ]
  },
  {
   "cell_type": "code",
   "execution_count": 27,
   "metadata": {
    "tags": []
   },
   "outputs": [
    {
     "output_type": "stream",
     "name": "stdout",
     "text": "(62, 501, 9)\n"
    },
    {
     "output_type": "error",
     "ename": "ValueError",
     "evalue": "To change to a dtype of a different size, the array must be C-contiguous",
     "traceback": [
      "\u001b[0;31m---------------------------------------------------------------------------\u001b[0m",
      "\u001b[0;31mValueError\u001b[0m                                Traceback (most recent call last)",
      "\u001b[0;32m<ipython-input-27-88815dc6bea8>\u001b[0m in \u001b[0;36m<module>\u001b[0;34m\u001b[0m\n\u001b[1;32m      2\u001b[0m \u001b[0mprint\u001b[0m\u001b[0;34m(\u001b[0m\u001b[0mZxx\u001b[0m\u001b[0;34m.\u001b[0m\u001b[0mshape\u001b[0m\u001b[0;34m)\u001b[0m\u001b[0;34m\u001b[0m\u001b[0;34m\u001b[0m\u001b[0m\n\u001b[1;32m      3\u001b[0m \u001b[0;34m\u001b[0m\u001b[0m\n\u001b[0;32m----> 4\u001b[0;31m \u001b[0mZxx\u001b[0m \u001b[0;34m=\u001b[0m \u001b[0mZxx\u001b[0m\u001b[0;34m.\u001b[0m\u001b[0mview\u001b[0m\u001b[0;34m(\u001b[0m\u001b[0mnp\u001b[0m\u001b[0;34m.\u001b[0m\u001b[0mfloat32\u001b[0m\u001b[0;34m)\u001b[0m\u001b[0;34m\u001b[0m\u001b[0;34m\u001b[0m\u001b[0m\n\u001b[0m\u001b[1;32m      5\u001b[0m \u001b[0;34m\u001b[0m\u001b[0m\n\u001b[1;32m      6\u001b[0m \u001b[0mplt\u001b[0m\u001b[0;34m.\u001b[0m\u001b[0mimshow\u001b[0m\u001b[0;34m(\u001b[0m\u001b[0mZxx\u001b[0m\u001b[0;34m[\u001b[0m\u001b[0;36m0\u001b[0m\u001b[0;34m,\u001b[0m \u001b[0;36m0\u001b[0m\u001b[0;34m:\u001b[0m\u001b[0;36m26\u001b[0m\u001b[0;34m]\u001b[0m\u001b[0;34m)\u001b[0m\u001b[0;34m\u001b[0m\u001b[0;34m\u001b[0m\u001b[0m\n",
      "\u001b[0;31mValueError\u001b[0m: To change to a dtype of a different size, the array must be C-contiguous"
     ]
    }
   ],
   "source": [
    "\n",
    "f, t, Zxx = signal.stft(s1_sample, fs=1000, nperseg=1000)\n",
    "print(Zxx.shape)\n",
    "\n",
    "Zxx = Zxx.view(np.float32)\n",
    "\n",
    "plt.imshow(Zxx[0, 0:26])\n",
    "plt.show()\n"
   ]
  },
  {
   "cell_type": "code",
   "execution_count": 32,
   "metadata": {},
   "outputs": [
    {
     "output_type": "execute_result",
     "data": {
      "text/plain": "torch.Size([100, 62, 4000])"
     },
     "metadata": {},
     "execution_count": 32
    }
   ],
   "source": [
    "import torch\n",
    "\n",
    "# torch.stft\n",
    "\n",
    "s1_tensor = torch.tensor(s1.data)\n",
    "s1_tensor.shape"
   ]
  },
  {
   "cell_type": "code",
   "execution_count": 46,
   "metadata": {},
   "outputs": [
    {
     "output_type": "execute_result",
     "data": {
      "text/plain": "torch.Size([62, 501, 17, 2])"
     },
     "metadata": {},
     "execution_count": 46
    }
   ],
   "source": [
    "s1_stft = torch.stft(s1_tensor[0], n_fft=1000, hop_length=None, win_length=None, window=None, center=True, pad_mode='reflect', normalized=False, onesided=True)\n",
    "\n",
    "s1_stft.shape"
   ]
  },
  {
   "cell_type": "code",
   "execution_count": 47,
   "metadata": {},
   "outputs": [
    {
     "output_type": "execute_result",
     "data": {
      "text/plain": "torch.Size([62, 501, 17])"
     },
     "metadata": {},
     "execution_count": 47
    }
   ],
   "source": [
    "s1_stft[:,:,:,0].shape"
   ]
  }
 ],
 "metadata": {
  "language_info": {
   "codemirror_mode": {
    "name": "ipython",
    "version": 3
   },
   "file_extension": ".py",
   "mimetype": "text/x-python",
   "name": "python",
   "nbconvert_exporter": "python",
   "pygments_lexer": "ipython3",
   "version": 3
  },
  "orig_nbformat": 2,
  "kernelspec": {
   "name": "python_defaultSpec_1594613570521",
   "display_name": "Python 3.7.3 64-bit"
  }
 },
 "nbformat": 4,
 "nbformat_minor": 2
}